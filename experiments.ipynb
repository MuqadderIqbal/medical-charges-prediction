{
 "metadata": {
  "language_info": {
   "codemirror_mode": {
    "name": "ipython",
    "version": 3
   },
   "file_extension": ".py",
   "mimetype": "text/x-python",
   "name": "python",
   "nbconvert_exporter": "python",
   "pygments_lexer": "ipython3",
   "version": "3.9.1-final"
  },
  "orig_nbformat": 2,
  "kernelspec": {
   "name": "python3",
   "display_name": "Python 3.9.1 64-bit ('experiments': conda)",
   "metadata": {
    "interpreter": {
     "hash": "bd0a41f2fe245ff750474083ff25769e64f9538a5821ac478406034ba62def38"
    }
   }
  }
 },
 "nbformat": 4,
 "nbformat_minor": 2,
 "cells": [
  {
   "cell_type": "code",
   "execution_count": 2,
   "metadata": {},
   "outputs": [],
   "source": [
    "import pandas as pd\n",
    "import plotly.graph_objs as go\n",
    "import copy\n",
    "import random"
   ]
  },
  {
   "cell_type": "code",
   "execution_count": 3,
   "metadata": {},
   "outputs": [
    {
     "output_type": "execute_result",
     "data": {
      "text/plain": [
       "   job_sequence job_title                   job_desc  status_code  \\\n",
       "0             1      Job1    First Job for data load            1   \n",
       "1             2      Job2   Second Job for data load            1   \n",
       "2             3      Job3    Third Job for data load            1   \n",
       "3             4      Job4   Fourth Job for data load            1   \n",
       "4             5      Job5    Fifth Job for data load            1   \n",
       "5             6      Job6    Sixth Job for data load            2   \n",
       "6             7      Job7  Seventh Job for data load            4   \n",
       "7             8      Job8   Eighth Job for data load            4   \n",
       "8             9      Job9    Ninth Job for data load            4   \n",
       "9            10     Job10    Tenth Job for data load            4   \n",
       "\n",
       "   status_desc                    additional_info    run_date  y_value  \n",
       "0      Success             Successfully completed  2021-02-26        1  \n",
       "1      Success             Successfully completed  2021-02-26        1  \n",
       "2      Success             Successfully completed  2021-02-26        1  \n",
       "3      Success             Successfully completed  2021-02-26        1  \n",
       "4      Success             Successfully completed  2021-02-26        1  \n",
       "5      Failure      Unable to connect to database  2021-02-26        1  \n",
       "6  Not Started  Awaiting completion of prior jobs  2021-02-26        1  \n",
       "7  Not Started  Awaiting completion of prior jobs  2021-02-26        1  \n",
       "8  Not Started  Awaiting completion of prior jobs  2021-02-26        1  \n",
       "9  Not Started  Awaiting completion of prior jobs  2021-02-26        1  "
      ],
      "text/html": "<div>\n<style scoped>\n    .dataframe tbody tr th:only-of-type {\n        vertical-align: middle;\n    }\n\n    .dataframe tbody tr th {\n        vertical-align: top;\n    }\n\n    .dataframe thead th {\n        text-align: right;\n    }\n</style>\n<table border=\"1\" class=\"dataframe\">\n  <thead>\n    <tr style=\"text-align: right;\">\n      <th></th>\n      <th>job_sequence</th>\n      <th>job_title</th>\n      <th>job_desc</th>\n      <th>status_code</th>\n      <th>status_desc</th>\n      <th>additional_info</th>\n      <th>run_date</th>\n      <th>y_value</th>\n    </tr>\n  </thead>\n  <tbody>\n    <tr>\n      <th>0</th>\n      <td>1</td>\n      <td>Job1</td>\n      <td>First Job for data load</td>\n      <td>1</td>\n      <td>Success</td>\n      <td>Successfully completed</td>\n      <td>2021-02-26</td>\n      <td>1</td>\n    </tr>\n    <tr>\n      <th>1</th>\n      <td>2</td>\n      <td>Job2</td>\n      <td>Second Job for data load</td>\n      <td>1</td>\n      <td>Success</td>\n      <td>Successfully completed</td>\n      <td>2021-02-26</td>\n      <td>1</td>\n    </tr>\n    <tr>\n      <th>2</th>\n      <td>3</td>\n      <td>Job3</td>\n      <td>Third Job for data load</td>\n      <td>1</td>\n      <td>Success</td>\n      <td>Successfully completed</td>\n      <td>2021-02-26</td>\n      <td>1</td>\n    </tr>\n    <tr>\n      <th>3</th>\n      <td>4</td>\n      <td>Job4</td>\n      <td>Fourth Job for data load</td>\n      <td>1</td>\n      <td>Success</td>\n      <td>Successfully completed</td>\n      <td>2021-02-26</td>\n      <td>1</td>\n    </tr>\n    <tr>\n      <th>4</th>\n      <td>5</td>\n      <td>Job5</td>\n      <td>Fifth Job for data load</td>\n      <td>1</td>\n      <td>Success</td>\n      <td>Successfully completed</td>\n      <td>2021-02-26</td>\n      <td>1</td>\n    </tr>\n    <tr>\n      <th>5</th>\n      <td>6</td>\n      <td>Job6</td>\n      <td>Sixth Job for data load</td>\n      <td>2</td>\n      <td>Failure</td>\n      <td>Unable to connect to database</td>\n      <td>2021-02-26</td>\n      <td>1</td>\n    </tr>\n    <tr>\n      <th>6</th>\n      <td>7</td>\n      <td>Job7</td>\n      <td>Seventh Job for data load</td>\n      <td>4</td>\n      <td>Not Started</td>\n      <td>Awaiting completion of prior jobs</td>\n      <td>2021-02-26</td>\n      <td>1</td>\n    </tr>\n    <tr>\n      <th>7</th>\n      <td>8</td>\n      <td>Job8</td>\n      <td>Eighth Job for data load</td>\n      <td>4</td>\n      <td>Not Started</td>\n      <td>Awaiting completion of prior jobs</td>\n      <td>2021-02-26</td>\n      <td>1</td>\n    </tr>\n    <tr>\n      <th>8</th>\n      <td>9</td>\n      <td>Job9</td>\n      <td>Ninth Job for data load</td>\n      <td>4</td>\n      <td>Not Started</td>\n      <td>Awaiting completion of prior jobs</td>\n      <td>2021-02-26</td>\n      <td>1</td>\n    </tr>\n    <tr>\n      <th>9</th>\n      <td>10</td>\n      <td>Job10</td>\n      <td>Tenth Job for data load</td>\n      <td>4</td>\n      <td>Not Started</td>\n      <td>Awaiting completion of prior jobs</td>\n      <td>2021-02-26</td>\n      <td>1</td>\n    </tr>\n  </tbody>\n</table>\n</div>"
     },
     "metadata": {},
     "execution_count": 3
    }
   ],
   "source": [
    "dataload_df = pd.read_csv(\"data/load_status.csv\")\n",
    "dataload_df[\"y_value\"] = 1\n",
    "dataload_df.head(10)"
   ]
  },
  {
   "cell_type": "code",
   "execution_count": 3,
   "metadata": {},
   "outputs": [],
   "source": [
    "layout = dict(\n",
    "    autosize=True,\n",
    "    # automargin=True,\n",
    "    margin=dict(l=30, r=30, b=20, t=40),\n",
    "    hovermode=\"closest\",\n",
    "    plot_bgcolor=\"#1a2229\",\n",
    "    paper_bgcolor=\"#2d353c\",\n",
    "    xaxis = dict(color=\"#9ba8b4\", showgrid=False),\n",
    "    yaxis = dict(color=\"#9ba8b4\", showgrid=False),\n",
    "    \n",
    "    title=\"Sample Title\",\n",
    "    titlefont=dict(\n",
    "        family='Open Sans',\n",
    "        size=18,\n",
    "        color='white'\n",
    "    ),\n",
    "    \n",
    "    legend = dict(\n",
    "            x=0.16,\n",
    "            y=-0.12,\n",
    "            traceorder=\"normal\",\n",
    "            font=dict(\n",
    "                family=\"Open Sans\",\n",
    "                size=12,\n",
    "                color=\"#9ba8b4\"\n",
    "            ),\n",
    "            bgcolor=\"#1a2229\",\n",
    "            bordercolor=\"Black\",\n",
    "            borderwidth=1,\n",
    "            orientation='h'\n",
    "        )\n",
    ")"
   ]
  },
  {
   "cell_type": "code",
   "execution_count": 23,
   "metadata": {},
   "outputs": [],
   "source": [
    "def generate_status_colors(row):\n",
    "    if row[\"status_code\"]==1:\n",
    "        return \"green\"\n",
    "    elif  row[\"status_code\"]==2:\n",
    "        return \"crimson\"\n",
    "    elif row[\"status_code\"]==4:\n",
    "        return \"grey\"\n",
    "    else:\n",
    "        return \"white\""
   ]
  },
  {
   "cell_type": "code",
   "execution_count": 24,
   "metadata": {},
   "outputs": [],
   "source": [
    "dataload_df[\"color\"] = dataload_df.apply(generate_status_colors, axis=1)"
   ]
  },
  {
   "cell_type": "code",
   "execution_count": 25,
   "metadata": {},
   "outputs": [
    {
     "output_type": "execute_result",
     "data": {
      "text/plain": [
       "   job_sequence job_title                   job_desc  status_code  \\\n",
       "0             1      Job1    First Job for data load            1   \n",
       "1             2      Job2   Second Job for data load            1   \n",
       "2             3      Job3    Third Job for data load            1   \n",
       "3             4      Job4   Fourth Job for data load            1   \n",
       "4             5      Job5    Fifth Job for data load            1   \n",
       "5             6      Job6    Sixth Job for data load            2   \n",
       "6             7      Job7  Seventh Job for data load            4   \n",
       "7             8      Job8   Eighth Job for data load            4   \n",
       "8             9      Job9    Ninth Job for data load            4   \n",
       "9            10     Job10    Tenth Job for data load            4   \n",
       "\n",
       "   status_desc  y_value    color  \n",
       "0     Complete        1    green  \n",
       "1     Complete        1    green  \n",
       "2     Complete        1    green  \n",
       "3     Complete        1    green  \n",
       "4     Complete        1    green  \n",
       "5       Failed        1  crimson  \n",
       "6  Not Started        1     grey  \n",
       "7  Not Started        1     grey  \n",
       "8  Not Started        1     grey  \n",
       "9  Not Started        1     grey  "
      ],
      "text/html": "<div>\n<style scoped>\n    .dataframe tbody tr th:only-of-type {\n        vertical-align: middle;\n    }\n\n    .dataframe tbody tr th {\n        vertical-align: top;\n    }\n\n    .dataframe thead th {\n        text-align: right;\n    }\n</style>\n<table border=\"1\" class=\"dataframe\">\n  <thead>\n    <tr style=\"text-align: right;\">\n      <th></th>\n      <th>job_sequence</th>\n      <th>job_title</th>\n      <th>job_desc</th>\n      <th>status_code</th>\n      <th>status_desc</th>\n      <th>y_value</th>\n      <th>color</th>\n    </tr>\n  </thead>\n  <tbody>\n    <tr>\n      <th>0</th>\n      <td>1</td>\n      <td>Job1</td>\n      <td>First Job for data load</td>\n      <td>1</td>\n      <td>Complete</td>\n      <td>1</td>\n      <td>green</td>\n    </tr>\n    <tr>\n      <th>1</th>\n      <td>2</td>\n      <td>Job2</td>\n      <td>Second Job for data load</td>\n      <td>1</td>\n      <td>Complete</td>\n      <td>1</td>\n      <td>green</td>\n    </tr>\n    <tr>\n      <th>2</th>\n      <td>3</td>\n      <td>Job3</td>\n      <td>Third Job for data load</td>\n      <td>1</td>\n      <td>Complete</td>\n      <td>1</td>\n      <td>green</td>\n    </tr>\n    <tr>\n      <th>3</th>\n      <td>4</td>\n      <td>Job4</td>\n      <td>Fourth Job for data load</td>\n      <td>1</td>\n      <td>Complete</td>\n      <td>1</td>\n      <td>green</td>\n    </tr>\n    <tr>\n      <th>4</th>\n      <td>5</td>\n      <td>Job5</td>\n      <td>Fifth Job for data load</td>\n      <td>1</td>\n      <td>Complete</td>\n      <td>1</td>\n      <td>green</td>\n    </tr>\n    <tr>\n      <th>5</th>\n      <td>6</td>\n      <td>Job6</td>\n      <td>Sixth Job for data load</td>\n      <td>2</td>\n      <td>Failed</td>\n      <td>1</td>\n      <td>crimson</td>\n    </tr>\n    <tr>\n      <th>6</th>\n      <td>7</td>\n      <td>Job7</td>\n      <td>Seventh Job for data load</td>\n      <td>4</td>\n      <td>Not Started</td>\n      <td>1</td>\n      <td>grey</td>\n    </tr>\n    <tr>\n      <th>7</th>\n      <td>8</td>\n      <td>Job8</td>\n      <td>Eighth Job for data load</td>\n      <td>4</td>\n      <td>Not Started</td>\n      <td>1</td>\n      <td>grey</td>\n    </tr>\n    <tr>\n      <th>8</th>\n      <td>9</td>\n      <td>Job9</td>\n      <td>Ninth Job for data load</td>\n      <td>4</td>\n      <td>Not Started</td>\n      <td>1</td>\n      <td>grey</td>\n    </tr>\n    <tr>\n      <th>9</th>\n      <td>10</td>\n      <td>Job10</td>\n      <td>Tenth Job for data load</td>\n      <td>4</td>\n      <td>Not Started</td>\n      <td>1</td>\n      <td>grey</td>\n    </tr>\n  </tbody>\n</table>\n</div>"
     },
     "metadata": {},
     "execution_count": 25
    }
   ],
   "source": [
    "dataload_df"
   ]
  },
  {
   "cell_type": "code",
   "execution_count": 26,
   "metadata": {},
   "outputs": [
    {
     "output_type": "display_data",
     "data": {
      "application/vnd.plotly.v1+json": {
       "config": {
        "plotlyServerURL": "https://plot.ly"
       },
       "data": [
        {
         "marker": {
          "color": [
           "green",
           "green",
           "green",
           "green",
           "green",
           "crimson",
           "grey",
           "grey",
           "grey",
           "grey"
          ]
         },
         "name": "test set",
         "orientation": "v",
         "type": "bar",
         "x": [
          "Job1",
          "Job2",
          "Job3",
          "Job4",
          "Job5",
          "Job6",
          "Job7",
          "Job8",
          "Job9",
          "Job10"
         ],
         "y": [
          1,
          1,
          1,
          1,
          1,
          1,
          1,
          1,
          1,
          1
         ]
        }
       ],
       "layout": {
        "autosize": true,
        "hovermode": "closest",
        "legend": {
         "bgcolor": "#1a2229",
         "bordercolor": "Black",
         "borderwidth": 1,
         "font": {
          "color": "#9ba8b4",
          "family": "Open Sans",
          "size": 12
         },
         "orientation": "h",
         "traceorder": "normal",
         "x": 0.16,
         "y": -0.12
        },
        "margin": {
         "b": 20,
         "l": 30,
         "r": 30,
         "t": 40
        },
        "paper_bgcolor": "#2d353c",
        "plot_bgcolor": "#1a2229",
        "showlegend": true,
        "template": {
         "data": {
          "bar": [
           {
            "error_x": {
             "color": "#2a3f5f"
            },
            "error_y": {
             "color": "#2a3f5f"
            },
            "marker": {
             "line": {
              "color": "#E5ECF6",
              "width": 0.5
             }
            },
            "type": "bar"
           }
          ],
          "barpolar": [
           {
            "marker": {
             "line": {
              "color": "#E5ECF6",
              "width": 0.5
             }
            },
            "type": "barpolar"
           }
          ],
          "carpet": [
           {
            "aaxis": {
             "endlinecolor": "#2a3f5f",
             "gridcolor": "white",
             "linecolor": "white",
             "minorgridcolor": "white",
             "startlinecolor": "#2a3f5f"
            },
            "baxis": {
             "endlinecolor": "#2a3f5f",
             "gridcolor": "white",
             "linecolor": "white",
             "minorgridcolor": "white",
             "startlinecolor": "#2a3f5f"
            },
            "type": "carpet"
           }
          ],
          "choropleth": [
           {
            "colorbar": {
             "outlinewidth": 0,
             "ticks": ""
            },
            "type": "choropleth"
           }
          ],
          "contour": [
           {
            "colorbar": {
             "outlinewidth": 0,
             "ticks": ""
            },
            "colorscale": [
             [
              0,
              "#0d0887"
             ],
             [
              0.1111111111111111,
              "#46039f"
             ],
             [
              0.2222222222222222,
              "#7201a8"
             ],
             [
              0.3333333333333333,
              "#9c179e"
             ],
             [
              0.4444444444444444,
              "#bd3786"
             ],
             [
              0.5555555555555556,
              "#d8576b"
             ],
             [
              0.6666666666666666,
              "#ed7953"
             ],
             [
              0.7777777777777778,
              "#fb9f3a"
             ],
             [
              0.8888888888888888,
              "#fdca26"
             ],
             [
              1,
              "#f0f921"
             ]
            ],
            "type": "contour"
           }
          ],
          "contourcarpet": [
           {
            "colorbar": {
             "outlinewidth": 0,
             "ticks": ""
            },
            "type": "contourcarpet"
           }
          ],
          "heatmap": [
           {
            "colorbar": {
             "outlinewidth": 0,
             "ticks": ""
            },
            "colorscale": [
             [
              0,
              "#0d0887"
             ],
             [
              0.1111111111111111,
              "#46039f"
             ],
             [
              0.2222222222222222,
              "#7201a8"
             ],
             [
              0.3333333333333333,
              "#9c179e"
             ],
             [
              0.4444444444444444,
              "#bd3786"
             ],
             [
              0.5555555555555556,
              "#d8576b"
             ],
             [
              0.6666666666666666,
              "#ed7953"
             ],
             [
              0.7777777777777778,
              "#fb9f3a"
             ],
             [
              0.8888888888888888,
              "#fdca26"
             ],
             [
              1,
              "#f0f921"
             ]
            ],
            "type": "heatmap"
           }
          ],
          "heatmapgl": [
           {
            "colorbar": {
             "outlinewidth": 0,
             "ticks": ""
            },
            "colorscale": [
             [
              0,
              "#0d0887"
             ],
             [
              0.1111111111111111,
              "#46039f"
             ],
             [
              0.2222222222222222,
              "#7201a8"
             ],
             [
              0.3333333333333333,
              "#9c179e"
             ],
             [
              0.4444444444444444,
              "#bd3786"
             ],
             [
              0.5555555555555556,
              "#d8576b"
             ],
             [
              0.6666666666666666,
              "#ed7953"
             ],
             [
              0.7777777777777778,
              "#fb9f3a"
             ],
             [
              0.8888888888888888,
              "#fdca26"
             ],
             [
              1,
              "#f0f921"
             ]
            ],
            "type": "heatmapgl"
           }
          ],
          "histogram": [
           {
            "marker": {
             "colorbar": {
              "outlinewidth": 0,
              "ticks": ""
             }
            },
            "type": "histogram"
           }
          ],
          "histogram2d": [
           {
            "colorbar": {
             "outlinewidth": 0,
             "ticks": ""
            },
            "colorscale": [
             [
              0,
              "#0d0887"
             ],
             [
              0.1111111111111111,
              "#46039f"
             ],
             [
              0.2222222222222222,
              "#7201a8"
             ],
             [
              0.3333333333333333,
              "#9c179e"
             ],
             [
              0.4444444444444444,
              "#bd3786"
             ],
             [
              0.5555555555555556,
              "#d8576b"
             ],
             [
              0.6666666666666666,
              "#ed7953"
             ],
             [
              0.7777777777777778,
              "#fb9f3a"
             ],
             [
              0.8888888888888888,
              "#fdca26"
             ],
             [
              1,
              "#f0f921"
             ]
            ],
            "type": "histogram2d"
           }
          ],
          "histogram2dcontour": [
           {
            "colorbar": {
             "outlinewidth": 0,
             "ticks": ""
            },
            "colorscale": [
             [
              0,
              "#0d0887"
             ],
             [
              0.1111111111111111,
              "#46039f"
             ],
             [
              0.2222222222222222,
              "#7201a8"
             ],
             [
              0.3333333333333333,
              "#9c179e"
             ],
             [
              0.4444444444444444,
              "#bd3786"
             ],
             [
              0.5555555555555556,
              "#d8576b"
             ],
             [
              0.6666666666666666,
              "#ed7953"
             ],
             [
              0.7777777777777778,
              "#fb9f3a"
             ],
             [
              0.8888888888888888,
              "#fdca26"
             ],
             [
              1,
              "#f0f921"
             ]
            ],
            "type": "histogram2dcontour"
           }
          ],
          "mesh3d": [
           {
            "colorbar": {
             "outlinewidth": 0,
             "ticks": ""
            },
            "type": "mesh3d"
           }
          ],
          "parcoords": [
           {
            "line": {
             "colorbar": {
              "outlinewidth": 0,
              "ticks": ""
             }
            },
            "type": "parcoords"
           }
          ],
          "pie": [
           {
            "automargin": true,
            "type": "pie"
           }
          ],
          "scatter": [
           {
            "marker": {
             "colorbar": {
              "outlinewidth": 0,
              "ticks": ""
             }
            },
            "type": "scatter"
           }
          ],
          "scatter3d": [
           {
            "line": {
             "colorbar": {
              "outlinewidth": 0,
              "ticks": ""
             }
            },
            "marker": {
             "colorbar": {
              "outlinewidth": 0,
              "ticks": ""
             }
            },
            "type": "scatter3d"
           }
          ],
          "scattercarpet": [
           {
            "marker": {
             "colorbar": {
              "outlinewidth": 0,
              "ticks": ""
             }
            },
            "type": "scattercarpet"
           }
          ],
          "scattergeo": [
           {
            "marker": {
             "colorbar": {
              "outlinewidth": 0,
              "ticks": ""
             }
            },
            "type": "scattergeo"
           }
          ],
          "scattergl": [
           {
            "marker": {
             "colorbar": {
              "outlinewidth": 0,
              "ticks": ""
             }
            },
            "type": "scattergl"
           }
          ],
          "scattermapbox": [
           {
            "marker": {
             "colorbar": {
              "outlinewidth": 0,
              "ticks": ""
             }
            },
            "type": "scattermapbox"
           }
          ],
          "scatterpolar": [
           {
            "marker": {
             "colorbar": {
              "outlinewidth": 0,
              "ticks": ""
             }
            },
            "type": "scatterpolar"
           }
          ],
          "scatterpolargl": [
           {
            "marker": {
             "colorbar": {
              "outlinewidth": 0,
              "ticks": ""
             }
            },
            "type": "scatterpolargl"
           }
          ],
          "scatterternary": [
           {
            "marker": {
             "colorbar": {
              "outlinewidth": 0,
              "ticks": ""
             }
            },
            "type": "scatterternary"
           }
          ],
          "surface": [
           {
            "colorbar": {
             "outlinewidth": 0,
             "ticks": ""
            },
            "colorscale": [
             [
              0,
              "#0d0887"
             ],
             [
              0.1111111111111111,
              "#46039f"
             ],
             [
              0.2222222222222222,
              "#7201a8"
             ],
             [
              0.3333333333333333,
              "#9c179e"
             ],
             [
              0.4444444444444444,
              "#bd3786"
             ],
             [
              0.5555555555555556,
              "#d8576b"
             ],
             [
              0.6666666666666666,
              "#ed7953"
             ],
             [
              0.7777777777777778,
              "#fb9f3a"
             ],
             [
              0.8888888888888888,
              "#fdca26"
             ],
             [
              1,
              "#f0f921"
             ]
            ],
            "type": "surface"
           }
          ],
          "table": [
           {
            "cells": {
             "fill": {
              "color": "#EBF0F8"
             },
             "line": {
              "color": "white"
             }
            },
            "header": {
             "fill": {
              "color": "#C8D4E3"
             },
             "line": {
              "color": "white"
             }
            },
            "type": "table"
           }
          ]
         },
         "layout": {
          "annotationdefaults": {
           "arrowcolor": "#2a3f5f",
           "arrowhead": 0,
           "arrowwidth": 1
          },
          "autotypenumbers": "strict",
          "coloraxis": {
           "colorbar": {
            "outlinewidth": 0,
            "ticks": ""
           }
          },
          "colorscale": {
           "diverging": [
            [
             0,
             "#8e0152"
            ],
            [
             0.1,
             "#c51b7d"
            ],
            [
             0.2,
             "#de77ae"
            ],
            [
             0.3,
             "#f1b6da"
            ],
            [
             0.4,
             "#fde0ef"
            ],
            [
             0.5,
             "#f7f7f7"
            ],
            [
             0.6,
             "#e6f5d0"
            ],
            [
             0.7,
             "#b8e186"
            ],
            [
             0.8,
             "#7fbc41"
            ],
            [
             0.9,
             "#4d9221"
            ],
            [
             1,
             "#276419"
            ]
           ],
           "sequential": [
            [
             0,
             "#0d0887"
            ],
            [
             0.1111111111111111,
             "#46039f"
            ],
            [
             0.2222222222222222,
             "#7201a8"
            ],
            [
             0.3333333333333333,
             "#9c179e"
            ],
            [
             0.4444444444444444,
             "#bd3786"
            ],
            [
             0.5555555555555556,
             "#d8576b"
            ],
            [
             0.6666666666666666,
             "#ed7953"
            ],
            [
             0.7777777777777778,
             "#fb9f3a"
            ],
            [
             0.8888888888888888,
             "#fdca26"
            ],
            [
             1,
             "#f0f921"
            ]
           ],
           "sequentialminus": [
            [
             0,
             "#0d0887"
            ],
            [
             0.1111111111111111,
             "#46039f"
            ],
            [
             0.2222222222222222,
             "#7201a8"
            ],
            [
             0.3333333333333333,
             "#9c179e"
            ],
            [
             0.4444444444444444,
             "#bd3786"
            ],
            [
             0.5555555555555556,
             "#d8576b"
            ],
            [
             0.6666666666666666,
             "#ed7953"
            ],
            [
             0.7777777777777778,
             "#fb9f3a"
            ],
            [
             0.8888888888888888,
             "#fdca26"
            ],
            [
             1,
             "#f0f921"
            ]
           ]
          },
          "colorway": [
           "#636efa",
           "#EF553B",
           "#00cc96",
           "#ab63fa",
           "#FFA15A",
           "#19d3f3",
           "#FF6692",
           "#B6E880",
           "#FF97FF",
           "#FECB52"
          ],
          "font": {
           "color": "#2a3f5f"
          },
          "geo": {
           "bgcolor": "white",
           "lakecolor": "white",
           "landcolor": "#E5ECF6",
           "showlakes": true,
           "showland": true,
           "subunitcolor": "white"
          },
          "hoverlabel": {
           "align": "left"
          },
          "hovermode": "closest",
          "mapbox": {
           "style": "light"
          },
          "paper_bgcolor": "white",
          "plot_bgcolor": "#E5ECF6",
          "polar": {
           "angularaxis": {
            "gridcolor": "white",
            "linecolor": "white",
            "ticks": ""
           },
           "bgcolor": "#E5ECF6",
           "radialaxis": {
            "gridcolor": "white",
            "linecolor": "white",
            "ticks": ""
           }
          },
          "scene": {
           "xaxis": {
            "backgroundcolor": "#E5ECF6",
            "gridcolor": "white",
            "gridwidth": 2,
            "linecolor": "white",
            "showbackground": true,
            "ticks": "",
            "zerolinecolor": "white"
           },
           "yaxis": {
            "backgroundcolor": "#E5ECF6",
            "gridcolor": "white",
            "gridwidth": 2,
            "linecolor": "white",
            "showbackground": true,
            "ticks": "",
            "zerolinecolor": "white"
           },
           "zaxis": {
            "backgroundcolor": "#E5ECF6",
            "gridcolor": "white",
            "gridwidth": 2,
            "linecolor": "white",
            "showbackground": true,
            "ticks": "",
            "zerolinecolor": "white"
           }
          },
          "shapedefaults": {
           "line": {
            "color": "#2a3f5f"
           }
          },
          "ternary": {
           "aaxis": {
            "gridcolor": "white",
            "linecolor": "white",
            "ticks": ""
           },
           "baxis": {
            "gridcolor": "white",
            "linecolor": "white",
            "ticks": ""
           },
           "bgcolor": "#E5ECF6",
           "caxis": {
            "gridcolor": "white",
            "linecolor": "white",
            "ticks": ""
           }
          },
          "title": {
           "x": 0.05
          },
          "xaxis": {
           "automargin": true,
           "gridcolor": "white",
           "linecolor": "white",
           "ticks": "",
           "title": {
            "standoff": 15
           },
           "zerolinecolor": "white",
           "zerolinewidth": 2
          },
          "yaxis": {
           "automargin": true,
           "gridcolor": "white",
           "linecolor": "white",
           "ticks": "",
           "title": {
            "standoff": 15
           },
           "zerolinecolor": "white",
           "zerolinewidth": 2
          }
         }
        },
        "title": {
         "font": {
          "color": "#ffffff"
         },
         "text": "Job Run Status",
         "x": 0.5
        },
        "xaxis": {
         "color": "#9ba8b4",
         "showgrid": false
        },
        "yaxis": {
         "color": "#9ba8b4",
         "showgrid": false,
         "title": {
          "text": ""
         },
         "zeroline": false
        }
       }
      }
     },
     "metadata": {}
    }
   ],
   "source": [
    "layout_count = copy.deepcopy(layout)\n",
    "fig = go.Figure(layout=layout_count)\n",
    "fig.add_trace(\n",
    "    go.Bar(\n",
    "            name='test set',\n",
    "            x=dataload_df[\"job_title\"],\n",
    "            y=dataload_df[\"y_value\"],\n",
    "            \n",
    "            # x=['Random Forest', 'Decision Tree', 'Lasso', 'Ridge', 'SVR', 'Linear'],\n",
    "            # y=[3948.307638, 4296.587786, 4569.831897, 4570.420248, 4578.942853, 5926.023602],\n",
    "            orientation='v',\n",
    "             marker_color=dataload_df[\"color\"]\n",
    "            \n",
    "            # marker=dict(\n",
    "            #     color = '#AC5700'\n",
    "            # )\n",
    "            \n",
    "        ),    \n",
    "    )\n",
    "    \n",
    "fig.update_layout(\n",
    "        title = \"Job Run Status\",\n",
    "        title_x=0.5,\n",
    "        yaxis_title=\"\",\n",
    "        titlefont=dict(\n",
    "            family='Open Sans',\n",
    "            size=18,\n",
    "            color = \"#ffffff\"\n",
    "        ),\n",
    "        showlegend = True,\n",
    "        yaxis_zeroline=False\n",
    ")"
   ]
  },
  {
   "cell_type": "code",
   "execution_count": 14,
   "metadata": {},
   "outputs": [
    {
     "output_type": "execute_result",
     "data": {
      "text/plain": [
       "'Complete'"
      ]
     },
     "metadata": {},
     "execution_count": 14
    }
   ],
   "source": [
    "dataload_df.iloc[[0]][\"status_desc\"].values[0]"
   ]
  },
  {
   "cell_type": "code",
   "execution_count": 20,
   "metadata": {},
   "outputs": [
    {
     "output_type": "execute_result",
     "data": {
      "text/plain": [
       "['Successfully completed', 'Successfully completed']"
      ]
     },
     "metadata": {},
     "execution_count": 20
    }
   ],
   "source": [
    "filetred_df = dataload_df[dataload_df[\"status_desc\"] == \"Success\"]\n",
    "random.choices(filetred_df[\"additional_info\"],k=2)"
   ]
  },
  {
   "cell_type": "code",
   "execution_count": null,
   "metadata": {},
   "outputs": [],
   "source": []
  }
 ]
}